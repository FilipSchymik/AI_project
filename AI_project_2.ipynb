{
  "nbformat": 4,
  "nbformat_minor": 0,
  "metadata": {
    "colab": {
      "provenance": []
    },
    "kernelspec": {
      "name": "python3",
      "display_name": "Python 3"
    },
    "language_info": {
      "name": "python"
    }
  },
  "cells": [
    {
      "cell_type": "markdown",
      "source": [
        "# MODELE PŁYTKIE"
      ],
      "metadata": {
        "id": "kEOzIoZdUEQM"
      }
    },
    {
      "cell_type": "code",
      "source": [
        "import numpy as np\n",
        "import pandas as pd\n",
        "import seaborn as sns\n",
        "import matplotlib.pyplot as plt\n",
        "import plotly.graph_objects as go"
      ],
      "metadata": {
        "id": "Ekk94HhIUPva"
      },
      "execution_count": 1,
      "outputs": []
    },
    {
      "cell_type": "code",
      "source": [
        "df=pd.read_csv(\"heart.csv\")\n",
        "df.head()"
      ],
      "metadata": {
        "colab": {
          "base_uri": "https://localhost:8080/",
          "height": 206
        },
        "id": "WXkzUCOwUIDD",
        "outputId": "a0d26785-cbd5-40cd-fe01-c509b37b8c90"
      },
      "execution_count": 4,
      "outputs": [
        {
          "output_type": "execute_result",
          "data": {
            "text/plain": [
              "   age  sex  cp  trtbps  chol  fbs  restecg  thalachh  exng  oldpeak  slp  \\\n",
              "0   63    1   3     145   233    1        0       150     0      2.3    0   \n",
              "1   37    1   2     130   250    0        1       187     0      3.5    0   \n",
              "2   41    0   1     130   204    0        0       172     0      1.4    2   \n",
              "3   56    1   1     120   236    0        1       178     0      0.8    2   \n",
              "4   57    0   0     120   354    0        1       163     1      0.6    2   \n",
              "\n",
              "   caa  thall  output  \n",
              "0    0      1       1  \n",
              "1    0      2       1  \n",
              "2    0      2       1  \n",
              "3    0      2       1  \n",
              "4    0      2       1  "
            ],
            "text/html": [
              "\n",
              "  <div id=\"df-da1c3858-eb0c-478e-9486-e6b68f97a3f3\">\n",
              "    <div class=\"colab-df-container\">\n",
              "      <div>\n",
              "<style scoped>\n",
              "    .dataframe tbody tr th:only-of-type {\n",
              "        vertical-align: middle;\n",
              "    }\n",
              "\n",
              "    .dataframe tbody tr th {\n",
              "        vertical-align: top;\n",
              "    }\n",
              "\n",
              "    .dataframe thead th {\n",
              "        text-align: right;\n",
              "    }\n",
              "</style>\n",
              "<table border=\"1\" class=\"dataframe\">\n",
              "  <thead>\n",
              "    <tr style=\"text-align: right;\">\n",
              "      <th></th>\n",
              "      <th>age</th>\n",
              "      <th>sex</th>\n",
              "      <th>cp</th>\n",
              "      <th>trtbps</th>\n",
              "      <th>chol</th>\n",
              "      <th>fbs</th>\n",
              "      <th>restecg</th>\n",
              "      <th>thalachh</th>\n",
              "      <th>exng</th>\n",
              "      <th>oldpeak</th>\n",
              "      <th>slp</th>\n",
              "      <th>caa</th>\n",
              "      <th>thall</th>\n",
              "      <th>output</th>\n",
              "    </tr>\n",
              "  </thead>\n",
              "  <tbody>\n",
              "    <tr>\n",
              "      <th>0</th>\n",
              "      <td>63</td>\n",
              "      <td>1</td>\n",
              "      <td>3</td>\n",
              "      <td>145</td>\n",
              "      <td>233</td>\n",
              "      <td>1</td>\n",
              "      <td>0</td>\n",
              "      <td>150</td>\n",
              "      <td>0</td>\n",
              "      <td>2.3</td>\n",
              "      <td>0</td>\n",
              "      <td>0</td>\n",
              "      <td>1</td>\n",
              "      <td>1</td>\n",
              "    </tr>\n",
              "    <tr>\n",
              "      <th>1</th>\n",
              "      <td>37</td>\n",
              "      <td>1</td>\n",
              "      <td>2</td>\n",
              "      <td>130</td>\n",
              "      <td>250</td>\n",
              "      <td>0</td>\n",
              "      <td>1</td>\n",
              "      <td>187</td>\n",
              "      <td>0</td>\n",
              "      <td>3.5</td>\n",
              "      <td>0</td>\n",
              "      <td>0</td>\n",
              "      <td>2</td>\n",
              "      <td>1</td>\n",
              "    </tr>\n",
              "    <tr>\n",
              "      <th>2</th>\n",
              "      <td>41</td>\n",
              "      <td>0</td>\n",
              "      <td>1</td>\n",
              "      <td>130</td>\n",
              "      <td>204</td>\n",
              "      <td>0</td>\n",
              "      <td>0</td>\n",
              "      <td>172</td>\n",
              "      <td>0</td>\n",
              "      <td>1.4</td>\n",
              "      <td>2</td>\n",
              "      <td>0</td>\n",
              "      <td>2</td>\n",
              "      <td>1</td>\n",
              "    </tr>\n",
              "    <tr>\n",
              "      <th>3</th>\n",
              "      <td>56</td>\n",
              "      <td>1</td>\n",
              "      <td>1</td>\n",
              "      <td>120</td>\n",
              "      <td>236</td>\n",
              "      <td>0</td>\n",
              "      <td>1</td>\n",
              "      <td>178</td>\n",
              "      <td>0</td>\n",
              "      <td>0.8</td>\n",
              "      <td>2</td>\n",
              "      <td>0</td>\n",
              "      <td>2</td>\n",
              "      <td>1</td>\n",
              "    </tr>\n",
              "    <tr>\n",
              "      <th>4</th>\n",
              "      <td>57</td>\n",
              "      <td>0</td>\n",
              "      <td>0</td>\n",
              "      <td>120</td>\n",
              "      <td>354</td>\n",
              "      <td>0</td>\n",
              "      <td>1</td>\n",
              "      <td>163</td>\n",
              "      <td>1</td>\n",
              "      <td>0.6</td>\n",
              "      <td>2</td>\n",
              "      <td>0</td>\n",
              "      <td>2</td>\n",
              "      <td>1</td>\n",
              "    </tr>\n",
              "  </tbody>\n",
              "</table>\n",
              "</div>\n",
              "      <button class=\"colab-df-convert\" onclick=\"convertToInteractive('df-da1c3858-eb0c-478e-9486-e6b68f97a3f3')\"\n",
              "              title=\"Convert this dataframe to an interactive table.\"\n",
              "              style=\"display:none;\">\n",
              "        \n",
              "  <svg xmlns=\"http://www.w3.org/2000/svg\" height=\"24px\"viewBox=\"0 0 24 24\"\n",
              "       width=\"24px\">\n",
              "    <path d=\"M0 0h24v24H0V0z\" fill=\"none\"/>\n",
              "    <path d=\"M18.56 5.44l.94 2.06.94-2.06 2.06-.94-2.06-.94-.94-2.06-.94 2.06-2.06.94zm-11 1L8.5 8.5l.94-2.06 2.06-.94-2.06-.94L8.5 2.5l-.94 2.06-2.06.94zm10 10l.94 2.06.94-2.06 2.06-.94-2.06-.94-.94-2.06-.94 2.06-2.06.94z\"/><path d=\"M17.41 7.96l-1.37-1.37c-.4-.4-.92-.59-1.43-.59-.52 0-1.04.2-1.43.59L10.3 9.45l-7.72 7.72c-.78.78-.78 2.05 0 2.83L4 21.41c.39.39.9.59 1.41.59.51 0 1.02-.2 1.41-.59l7.78-7.78 2.81-2.81c.8-.78.8-2.07 0-2.86zM5.41 20L4 18.59l7.72-7.72 1.47 1.35L5.41 20z\"/>\n",
              "  </svg>\n",
              "      </button>\n",
              "      \n",
              "  <style>\n",
              "    .colab-df-container {\n",
              "      display:flex;\n",
              "      flex-wrap:wrap;\n",
              "      gap: 12px;\n",
              "    }\n",
              "\n",
              "    .colab-df-convert {\n",
              "      background-color: #E8F0FE;\n",
              "      border: none;\n",
              "      border-radius: 50%;\n",
              "      cursor: pointer;\n",
              "      display: none;\n",
              "      fill: #1967D2;\n",
              "      height: 32px;\n",
              "      padding: 0 0 0 0;\n",
              "      width: 32px;\n",
              "    }\n",
              "\n",
              "    .colab-df-convert:hover {\n",
              "      background-color: #E2EBFA;\n",
              "      box-shadow: 0px 1px 2px rgba(60, 64, 67, 0.3), 0px 1px 3px 1px rgba(60, 64, 67, 0.15);\n",
              "      fill: #174EA6;\n",
              "    }\n",
              "\n",
              "    [theme=dark] .colab-df-convert {\n",
              "      background-color: #3B4455;\n",
              "      fill: #D2E3FC;\n",
              "    }\n",
              "\n",
              "    [theme=dark] .colab-df-convert:hover {\n",
              "      background-color: #434B5C;\n",
              "      box-shadow: 0px 1px 3px 1px rgba(0, 0, 0, 0.15);\n",
              "      filter: drop-shadow(0px 1px 2px rgba(0, 0, 0, 0.3));\n",
              "      fill: #FFFFFF;\n",
              "    }\n",
              "  </style>\n",
              "\n",
              "      <script>\n",
              "        const buttonEl =\n",
              "          document.querySelector('#df-da1c3858-eb0c-478e-9486-e6b68f97a3f3 button.colab-df-convert');\n",
              "        buttonEl.style.display =\n",
              "          google.colab.kernel.accessAllowed ? 'block' : 'none';\n",
              "\n",
              "        async function convertToInteractive(key) {\n",
              "          const element = document.querySelector('#df-da1c3858-eb0c-478e-9486-e6b68f97a3f3');\n",
              "          const dataTable =\n",
              "            await google.colab.kernel.invokeFunction('convertToInteractive',\n",
              "                                                     [key], {});\n",
              "          if (!dataTable) return;\n",
              "\n",
              "          const docLinkHtml = 'Like what you see? Visit the ' +\n",
              "            '<a target=\"_blank\" href=https://colab.research.google.com/notebooks/data_table.ipynb>data table notebook</a>'\n",
              "            + ' to learn more about interactive tables.';\n",
              "          element.innerHTML = '';\n",
              "          dataTable['output_type'] = 'display_data';\n",
              "          await google.colab.output.renderOutput(dataTable, element);\n",
              "          const docLink = document.createElement('div');\n",
              "          docLink.innerHTML = docLinkHtml;\n",
              "          element.appendChild(docLink);\n",
              "        }\n",
              "      </script>\n",
              "    </div>\n",
              "  </div>\n",
              "  "
            ]
          },
          "metadata": {},
          "execution_count": 4
        }
      ]
    },
    {
      "cell_type": "code",
      "source": [
        "negative_rows = df[(df < 0).any(axis=1)]\n",
        "print(negative_rows)"
      ],
      "metadata": {
        "colab": {
          "base_uri": "https://localhost:8080/"
        },
        "id": "22eKoPwqUJVn",
        "outputId": "f005b323-aa06-499d-df0b-6ae42c128c8e"
      },
      "execution_count": 5,
      "outputs": [
        {
          "output_type": "stream",
          "name": "stdout",
          "text": [
            "Empty DataFrame\n",
            "Columns: [age, sex, cp, trtbps, chol, fbs, restecg, thalachh, exng, oldpeak, slp, caa, thall, output]\n",
            "Index: []\n"
          ]
        }
      ]
    },
    {
      "cell_type": "markdown",
      "source": [
        "Nie mamy danych ujemnych."
      ],
      "metadata": {
        "id": "LBG0eEeMhjl3"
      }
    },
    {
      "cell_type": "code",
      "source": [
        "df[\"age\"]= np.log(df.age)\n",
        "df[\"trtbps\"]= np.log(df.trtbps)\n",
        "df[\"chol\"]= np.log(df.chol)\n",
        "df[\"thalachh\"]= np.log(df.thalachh)"
      ],
      "metadata": {
        "id": "R3uqDybBUNaA"
      },
      "execution_count": 6,
      "outputs": []
    },
    {
      "cell_type": "markdown",
      "source": [
        "Przeprowadzam ręcznie transformacje logarytmiczną na danych numerycznych."
      ],
      "metadata": {
        "id": "Duldw2BsCOI4"
      }
    },
    {
      "cell_type": "code",
      "source": [
        "categorical_cols = ['sex','exng','caa','cp','fbs','restecg','slp','thall']\n",
        "continous_cols = [\"age\",\"trtbps\",\"chol\",\"thalachh\",\"oldpeak\"]\n",
        "target_col = [\"output\"]"
      ],
      "metadata": {
        "id": "esFUOLGKUpXF"
      },
      "execution_count": 7,
      "outputs": []
    },
    {
      "cell_type": "code",
      "source": [
        "# Tworzenie box plotów\n",
        "selected_columns = continous_cols\n",
        "selected_df = df[selected_columns]\n",
        "plt.figure(figsize=(10, 6))\n",
        "plt.boxplot(selected_df, labels=selected_df.columns)\n",
        "plt.title('Box Ploty dla kolumn')\n",
        "plt.xlabel('Kolumny')\n",
        "plt.ylabel('Wartości')\n",
        "\n",
        "# Wyświetlanie box plotów\n",
        "plt.show()"
      ],
      "metadata": {
        "colab": {
          "base_uri": "https://localhost:8080/",
          "height": 564
        },
        "id": "CJyKPJNeUkXo",
        "outputId": "5729f4a6-07c9-439b-ff32-0e3e09590bdf"
      },
      "execution_count": 8,
      "outputs": [
        {
          "output_type": "display_data",
          "data": {
            "text/plain": [
              "<Figure size 1000x600 with 1 Axes>"
            ],
            "image/png": "[encoded data removed]"
          },
          "metadata": {}
        }
      ]
    },
    {
      "cell_type": "code",
      "source": [
        "#Schuffling\n",
        "import random\n",
        "\n",
        "#Scaling\n",
        "from sklearn.preprocessing import MinMaxScaler\n",
        "\n",
        "# Train Test Split\n",
        "from sklearn.model_selection import train_test_split\n",
        "\n",
        "# Models\n",
        "from sklearn.svm import SVC\n",
        "from sklearn.linear_model import LogisticRegression\n",
        "from sklearn.ensemble import RandomForestClassifier\n",
        "from sklearn.tree import DecisionTreeClassifier\n",
        "from sklearn.ensemble import GradientBoostingClassifier\n",
        "from xgboost import XGBClassifier\n",
        "\n",
        "# Metrics\n",
        "from sklearn.metrics import accuracy_score, classification_report, roc_curve\n",
        "\n",
        "# Cross Validation\n",
        "from sklearn.model_selection import cross_val_score\n",
        "from sklearn.model_selection import GridSearchCV\n",
        "\n",
        "import warnings\n",
        "warnings.filterwarnings(\"ignore\")\n",
        "\n",
        "from sklearn.model_selection import RandomizedSearchCV\n",
        "from scipy.stats import randint as sp_randint\n",
        "from sklearn import model_selection\n",
        "from sklearn import  metrics"
      ],
      "metadata": {
        "id": "6XK3GZK3Uq7O"
      },
      "execution_count": 21,
      "outputs": []
    },
    {
      "cell_type": "code",
      "source": [
        "#Data Splitting\n",
        "X=df.iloc[:,:13]\n",
        "y=df[\"output\"]\n",
        "\n",
        "#Train, test\n",
        "X_train,X_test,y_train,y_test=train_test_split(X,y,test_size=0.2,random_state=65)\n",
        "\n",
        "#MinMax transformacja\n",
        "MM_scaler = MinMaxScaler()\n",
        "X_train = MM_scaler.fit_transform(X_train)\n",
        "X_test = MM_scaler.fit_transform(X_test)\n",
        "\n",
        "#KFOLD\n",
        "kfold = model_selection.KFold(n_splits=5)"
      ],
      "metadata": {
        "id": "KhVxBXU_UuTM"
      },
      "execution_count": 11,
      "outputs": []
    },
    {
      "cell_type": "markdown",
      "source": [
        "Dzielimy na train i test oraz normalizujemy za pomocą MinMaxScalera."
      ],
      "metadata": {
        "id": "U2euKE4dhw5O"
      }
    },
    {
      "cell_type": "code",
      "source": [
        "# SVM z GridSearch\n",
        "\n",
        "searcher_SVC = GridSearchCV(SVC(), {'C': [1, 3, 5, 7], 'kernel': ['linear', 'poly', 'rbf']}, cv=kfold).fit(X_train, y_train.values.ravel())\n",
        "\n",
        "print(\"Params :\", searcher_SVC.best_params_)\n",
        "print(\"Score  :\", searcher_SVC.best_score_)\n",
        "\n",
        "y_pred_1 = searcher_SVC.predict(X_test)\n",
        "print(\"The SVM test accuracy score after tuning\", accuracy_score(y_test, y_pred_1))"
      ],
      "metadata": {
        "colab": {
          "base_uri": "https://localhost:8080/"
        },
        "id": "dqxyuouAVBKL",
        "outputId": "9da78acb-d282-4453-af28-7c88d0440999"
      },
      "execution_count": 15,
      "outputs": [
        {
          "output_type": "stream",
          "name": "stdout",
          "text": [
            "Params : {'C': 7, 'kernel': 'rbf'}\n",
            "Score  : 0.8220238095238095\n",
            "The SVM test accuracy score after tuning 0.9180327868852459\n"
          ]
        }
      ]
    },
    {
      "cell_type": "code",
      "source": [
        "# LOGISTIC REGRESSION z GridSearch\n",
        "\n",
        "searcher_LG = GridSearchCV(LogisticRegression(), {'C': [0.1, 1.0, 10.0, 30.0, 100.0],\n",
        "              'penalty': ['l1', 'l2']}, cv=kfold).fit(X_train, y_train.values.ravel())\n",
        "\n",
        "print(\"Params :\", searcher_LG.best_params_)\n",
        "print(\"Score  :\", searcher_LG.best_score_)\n",
        "\n",
        "y_pred_2 = searcher_LG.predict(X_test)\n",
        "print(\"The Logistic regression test accuracy score after tuning\", accuracy_score(y_test, y_pred_2))"
      ],
      "metadata": {
        "colab": {
          "base_uri": "https://localhost:8080/"
        },
        "id": "uBRlth4fVHVj",
        "outputId": "7581a18a-d940-482a-b049-b0e827812ee7"
      },
      "execution_count": 18,
      "outputs": [
        {
          "output_type": "stream",
          "name": "stdout",
          "text": [
            "Params : {'C': 10.0, 'penalty': 'l2'}\n",
            "Score  : 0.8140306122448979\n",
            "The Logistic regression test accuracy score after tuning 0.9180327868852459\n"
          ]
        }
      ]
    },
    {
      "cell_type": "code",
      "source": [
        "#RANDOM FOREST z GridSearch\n",
        "\n",
        "searcher_RF = GridSearchCV(RandomForestClassifier(), {\n",
        "    'n_estimators': [100, 200, 300],\n",
        "    'max_depth': [None, 5, 10],\n",
        "    'min_samples_split': [2, 5, 10],\n",
        "    'min_samples_leaf': [1, 2, 4]\n",
        "}, cv=kfold)\n",
        "\n",
        "searcher_RF.fit(X_train, y_train)\n",
        "\n",
        "print(\"Params :\", searcher_RF.best_params_)\n",
        "print(\"Score  :\", searcher_RF.best_score_)\n",
        "\n",
        "y_pred_3 = searcher_RF.predict(X_test)\n",
        "print(\"The Random forest test accuracy score after tuning\", accuracy_score(y_test, y_pred_3))"
      ],
      "metadata": {
        "colab": {
          "base_uri": "https://localhost:8080/"
        },
        "id": "G3WqicmZVN5X",
        "outputId": "0c8fb6d7-d75d-4395-b486-ef5ee4c6e4a8"
      },
      "execution_count": 20,
      "outputs": [
        {
          "output_type": "stream",
          "name": "stdout",
          "text": [
            "Params : {'max_depth': None, 'min_samples_leaf': 4, 'min_samples_split': 2, 'n_estimators': 200}\n",
            "Score  : 0.8140306122448979\n",
            "The Random forest test accuracy score after tuning 0.9016393442622951\n"
          ]
        }
      ]
    },
    {
      "cell_type": "code",
      "source": [
        "#GRADIENT BOOSTING z Randomized Search\n",
        "searcher_GB = RandomizedSearchCV(GradientBoostingClassifier(), {\n",
        "    'n_estimators': sp_randint(100, 500),\n",
        "    'learning_rate': [0.01, 0.05, 0.1, 0.2],\n",
        "    'max_depth': sp_randint(3, 10),\n",
        "    'min_samples_split': sp_randint(2, 20),\n",
        "    'min_samples_leaf': sp_randint(1, 10)\n",
        "}, n_iter=100, cv=kfold)\n",
        "\n",
        "searcher_GB.fit(X_train, y_train)\n",
        "\n",
        "print(\"Params :\", searcher_GB.best_params_)\n",
        "print(\"Score  :\", searcher_GB.best_score_)\n",
        "\n",
        "y_pred_4 = searcher_GB.predict(X_test)\n",
        "print(\"The Gradient boosting test accuracy score \", accuracy_score(y_test, y_pred_4))"
      ],
      "metadata": {
        "colab": {
          "base_uri": "https://localhost:8080/"
        },
        "id": "BMhVzib0VSNA",
        "outputId": "df4a40ed-1e14-48d5-a164-2d6988651546"
      },
      "execution_count": 23,
      "outputs": [
        {
          "output_type": "stream",
          "name": "stdout",
          "text": [
            "Params : {'learning_rate': 0.01, 'max_depth': 7, 'min_samples_leaf': 9, 'min_samples_split': 3, 'n_estimators': 408}\n",
            "Score  : 0.8180272108843537\n",
            "The Gradient boosting test accuracy score  0.8688524590163934\n"
          ]
        }
      ]
    },
    {
      "cell_type": "code",
      "source": [
        "#XGBoost z Randomized Search\n",
        "\n",
        "searcher_XGB = RandomizedSearchCV(XGBClassifier(), {\n",
        "    'n_estimators': sp_randint(1, 100),\n",
        "    'learning_rate': [0.01, 0.05, 0.1, 0.2],\n",
        "    'max_depth': sp_randint(1, 10),\n",
        "}, n_iter=30, cv=5).fit(X_train, y_train)\n",
        "\n",
        "print(\"Params :\", searcher_XGB.best_params_)\n",
        "print(\"Score  :\", searcher_XGB.best_score_)\n",
        "\n",
        "y_pred_5 = searcher_XGB.predict(X_test)\n",
        "print(\"The XGB test accuracy score \", accuracy_score(y_test, y_pred_5))"
      ],
      "metadata": {
        "colab": {
          "base_uri": "https://localhost:8080/"
        },
        "id": "du7-zLjbVbbP",
        "outputId": "2516fe88-a8f2-4be6-a787-087275f8f351"
      },
      "execution_count": 26,
      "outputs": [
        {
          "output_type": "stream",
          "name": "stdout",
          "text": [
            "XGB Classifier test accuracy score 0.9180327868852459\n",
            "Params : {'learning_rate': 0.1, 'max_depth': 3, 'n_estimators': 42}\n",
            "Score  : 0.7976190476190476\n",
            "The XGB test accuracy score  0.8852459016393442\n"
          ]
        }
      ]
    }
  ]
}